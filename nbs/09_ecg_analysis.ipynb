{
 "cells": [
  {
   "cell_type": "raw",
   "metadata": {},
   "source": [
    "---\n",
    "description: ECG analysis\n",
    "output-file: ecg_analysis.html\n",
    "title: ECG analysis\n",
    "\n",
    "---\n",
    "\n"
   ]
  },
  {
   "cell_type": "code",
   "execution_count": null,
   "metadata": {},
   "outputs": [],
   "source": [
    "#| default_exp ecg_analysis"
   ]
  },
  {
   "cell_type": "code",
   "execution_count": null,
   "metadata": {},
   "outputs": [],
   "source": [
    "#| hide\n",
    "from nbdev.showdoc import *"
   ]
  },
  {
   "cell_type": "code",
   "execution_count": null,
   "metadata": {},
   "outputs": [],
   "source": [
    "#| export\n",
    "from typing import Tuple\n",
    "\n",
    "import numpy as np\n",
    "import pandas as pd\n",
    "import seaborn as sns\n",
    "import matplotlib.pyplot as plt\n"
   ]
  },
  {
   "cell_type": "code",
   "execution_count": null,
   "metadata": {},
   "outputs": [],
   "source": [
    "#| export\n",
    "\n",
    "def vis_ecg(values_df: pd.DataFrame) -> None:\n",
    "    \"\"\"\n",
    "    Visualize ECG data for 12 leads.\n",
    "\n",
    "    Args:\n",
    "        values_df (pd.DataFrame): A DataFrame containing ECG data with 12 columns, one for each lead.\n",
    "\n",
    "    Returns:\n",
    "        None: Displays a 3x4 grid of ECG plots for the 12 leads.\n",
    "    \"\"\"\n",
    "    count = 0\n",
    "    frequency = 1000\n",
    "    time_data = np.arange(values_df.shape[0]) / frequency\n",
    "    sns.set(rc={'figure.figsize':(40.7,18.27)})\n",
    "    fig, axs = plt.subplots(3, 4)\n",
    "    \n",
    "    for y in range(0,4):    \n",
    "        for x in range(0,3):\n",
    "            col = values_df.columns[count]\n",
    "            axs[x, y].plot(time_data, values_df[col].values)\n",
    "            axs[x, y].set_title(col)\n",
    "            count += 1\n",
    "            plt.xlabel(\"time in seconds\")\n",
    "            plt.ylabel(\"ECG in uV\")\n"
   ]
  },
  {
   "cell_type": "code",
   "execution_count": null,
   "metadata": {},
   "outputs": [],
   "source": [
    "#| hide\n",
    "import nbdev; nbdev.nbdev_export()"
   ]
  },
  {
   "cell_type": "code",
   "execution_count": null,
   "metadata": {},
   "outputs": [],
   "source": []
  }
 ],
 "metadata": {
  "kernelspec": {
   "display_name": "python3",
   "language": "python",
   "name": "python3"
  }
 },
 "nbformat": 4,
 "nbformat_minor": 2
}
