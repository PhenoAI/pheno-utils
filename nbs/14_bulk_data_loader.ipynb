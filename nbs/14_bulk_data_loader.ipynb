{
 "cells": [
  {
   "cell_type": "raw",
   "metadata": {},
   "source": [
    "---\n",
    "description: Class for managing all loading functions and utilitis for bulk data\n",
    "output-file: bulk_data_loader.html\n",
    "title: Bulk Data Loader\n",
    "\n",
    "---"
   ]
  },
  {
   "cell_type": "code",
   "execution_count": null,
   "metadata": {},
   "outputs": [],
   "source": [
    "#| default_exp bulk_data_loader\n"
   ]
  },
  {
   "cell_type": "code",
   "execution_count": null,
   "metadata": {},
   "outputs": [],
   "source": [
    "#| hide\n",
    "from nbdev.showdoc import *"
   ]
  },
  {
   "cell_type": "code",
   "execution_count": null,
   "metadata": {},
   "outputs": [],
   "source": [
    "#| export\n",
    "from typing import List, Dict, Tuple, Union, Optional\n",
    "import matplotlib.pyplot as plt\n",
    "from PIL import Image\n",
    "import warnings\n",
    "from smart_open import open\n",
    "import pandas as pd\n",
    "from pandas import read_parquet"
   ]
  },
  {
   "cell_type": "code",
   "execution_count": null,
   "metadata": {},
   "outputs": [],
   "source": [
    "#| export\n",
    "\n",
    "from pheno_utils.config import (\n",
    "    DICT_PROPERTY_PATH\n",
    "    )"
   ]
  },
  {
   "cell_type": "code",
   "execution_count": null,
   "metadata": {},
   "outputs": [],
   "source": [
    "#| export\n",
    "FIELD_TYPE_TO_FUNC = pd.read_csv(DICT_PROPERTY_PATH, index_col='field_type')['load_func'].dropna().to_dict()"
   ]
  },
  {
   "cell_type": "code",
   "execution_count": null,
   "metadata": {},
   "outputs": [],
   "source": [
    "#| export\n",
    "def get_function_for_field_type(field_type):\n",
    "    function_name = FIELD_TYPE_TO_FUNC.get(field_type, \"read_parquet\")\n",
    "    load_func = globals().get(function_name)\n",
    "    if load_func is None:\n",
    "        raise ValueError(f\"Function {function_name} not found\")\n",
    "    return load_func\n"
   ]
  },
  {
   "cell_type": "code",
   "execution_count": null,
   "metadata": {},
   "outputs": [],
   "source": [
    "#| export\n",
    "\n",
    "def load_image(fname: str) -> None:\n",
    "    \"\"\"\n",
    "    Display a fundus image from an input file path.\n",
    "    Args:\n",
    "        fname (str): The file path to the fundus image.\n",
    "    \"\"\"\n",
    "    fig, ax = plt.subplots(1, 1, figsize=(6, 6))\n",
    "    img = Image.open(open(fname, 'rb'))\n",
    "    ax.imshow(img, cmap=\"gray\")\n",
    "    ax.set_xticks([])\n",
    "    ax.set_yticks([])\n",
    "    ax.axis('off')"
   ]
  },
  {
   "cell_type": "code",
   "execution_count": null,
   "metadata": {},
   "outputs": [],
   "source": [
    "#| export\n",
    "\n",
    "def read_gtf(filename: str) -> pd.DataFrame:\n",
    "    \"\"\"\n",
    "    Read a GTF file with error handling for lines with too many fields.\n",
    "\n",
    "    Parameters:\n",
    "    filename (str): The path to the GTF file.\n",
    "\n",
    "    Returns:\n",
    "    pd.DataFrame: A DataFrame where each row corresponds to a line in the GTF file and each column corresponds to a field or attribute.\n",
    "    \"\"\"\n",
    "    # Column names as per GTF specification\n",
    "    gtf_cols = ['seqname', 'source', 'feature', 'start', 'end', 'score', 'strand', 'frame']\n",
    "\n",
    "    data = []\n",
    "\n",
    "    with open(filename, 'r') as f:\n",
    "        for line in f:\n",
    "            # Ignore comment lines\n",
    "            if line.startswith('#'):\n",
    "                continue\n",
    "\n",
    "            fields = line.strip().split('\\t')\n",
    "\n",
    "            if len(fields) > 9:\n",
    "                # If there are more than 9 fields, join the extra fields with the 9th field\n",
    "                fields[8] = '\\t'.join(fields[8:])\n",
    "                fields = fields[:9]\n",
    "\n",
    "            # Parse the 'attributes' field\n",
    "            attributes_dict = parse_gtf_attributes(fields[8])\n",
    "\n",
    "            # Create a dictionary for the row\n",
    "            row_dict = {**dict(zip(gtf_cols, fields[:8])), **attributes_dict}\n",
    "\n",
    "            # Append the row dictionary to the list\n",
    "            data.append(row_dict)\n",
    "\n",
    "    # Create a DataFrame from the list of dictionaries\n",
    "    df = pd.DataFrame(data).astype({'start': 'int', 'end': 'int'})\n",
    "\n",
    "    return df\n",
    "\n",
    "\n",
    "def parse_gtf_attributes(attributes_str: str) -> Dict[str, str]:\n",
    "    \"\"\"\n",
    "    Parse attribute column and return a dictionary.\n",
    "\n",
    "    Parameters:\n",
    "    attributes_str (str): The attributes as a semicolon-separated string.\n",
    "\n",
    "    Returns:\n",
    "    dict: A dictionary where the keys are the attribute names and the values are the attribute values.\n",
    "    \"\"\"\n",
    "    attributes = {}\n",
    "\n",
    "    # Split the attributes string into individual key-value pairs\n",
    "    for attribute_str in attributes_str.split(';'):\n",
    "        # Remove leading/trailing white space\n",
    "        attribute_str = attribute_str.strip()\n",
    "\n",
    "        if attribute_str:\n",
    "            # Split the key and value\n",
    "            key, value = attribute_str.split(' ')\n",
    "\n",
    "            # Remove quotes from the value\n",
    "            value = value.strip('\"')\n",
    "\n",
    "            # Add to attributes dictionary\n",
    "            attributes[key] = value\n",
    "\n",
    "    return attributes"
   ]
  },
  {
   "cell_type": "code",
   "execution_count": null,
   "metadata": {},
   "outputs": [],
   "source": [
    "#| export\n",
    "\n",
    "def show_fundus(fname: str) -> None:\n",
    "    warnings.warn('show_fundus() is deprecated in favour of load_image() and will be removed in a future version.')\n",
    "    load_image(fname)"
   ]
  },
  {
   "cell_type": "code",
   "execution_count": null,
   "metadata": {},
   "outputs": [],
   "source": [
    "#| hide\n",
    "import nbdev; nbdev.nbdev_export()"
   ]
  },
  {
   "cell_type": "code",
   "execution_count": null,
   "metadata": {},
   "outputs": [],
   "source": []
  }
 ],
 "metadata": {
  "kernelspec": {
   "display_name": "python3",
   "language": "python",
   "name": "python3"
  }
 },
 "nbformat": 4,
 "nbformat_minor": 2
}
