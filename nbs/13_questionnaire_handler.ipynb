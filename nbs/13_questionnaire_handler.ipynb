{
 "cells": [
  {
   "cell_type": "raw",
   "metadata": {},
   "source": [
    "---\n",
    "description: Class for handling questionnaires datasets on the research platform\n",
    "output-file: questionnaires_handler.html\n",
    "title: Questionnaires Handler\n",
    "\n",
    "---"
   ]
  },
  {
   "cell_type": "code",
   "execution_count": null,
   "metadata": {},
   "outputs": [],
   "source": [
    "#| default_exp questionnaires_handler\n"
   ]
  },
  {
   "cell_type": "code",
   "execution_count": null,
   "metadata": {},
   "outputs": [
    {
     "ename": "ModuleNotFoundError",
     "evalue": "No module named 'nbdev'",
     "output_type": "error",
     "traceback": [
      "\u001b[0;31m---------------------------------------------------------------------------\u001b[0m",
      "\u001b[0;31mModuleNotFoundError\u001b[0m                       Traceback (most recent call last)",
      "\u001b[0;32m/tmp/ipykernel_24995/1095056644.py\u001b[0m in \u001b[0;36m<cell line: 2>\u001b[0;34m()\u001b[0m\n\u001b[1;32m      1\u001b[0m \u001b[0;31m#| hide\u001b[0m\u001b[0;34m\u001b[0m\u001b[0;34m\u001b[0m\u001b[0m\n\u001b[0;32m----> 2\u001b[0;31m \u001b[0;32mfrom\u001b[0m \u001b[0mnbdev\u001b[0m\u001b[0;34m.\u001b[0m\u001b[0mshowdoc\u001b[0m \u001b[0;32mimport\u001b[0m \u001b[0;34m*\u001b[0m\u001b[0;34m\u001b[0m\u001b[0;34m\u001b[0m\u001b[0m\n\u001b[0m",
      "\u001b[0;31mModuleNotFoundError\u001b[0m: No module named 'nbdev'"
     ]
    }
   ],
   "source": [
    "#| hide\n",
    "from nbdev.showdoc import *"
   ]
  },
  {
   "cell_type": "code",
   "execution_count": null,
   "metadata": {},
   "outputs": [],
   "source": [
    "#| export\n",
    "import pandas as pd\n",
    "import numpy as np"
   ]
  },
  {
   "cell_type": "code",
   "execution_count": null,
   "metadata": {},
   "outputs": [
    {
     "ename": "NameError",
     "evalue": "name 'pd' is not defined",
     "output_type": "error",
     "traceback": [
      "\u001b[0;31m---------------------------------------------------------------------------\u001b[0m",
      "\u001b[0;31mNameError\u001b[0m                                 Traceback (most recent call last)",
      "\u001b[0;32m/tmp/ipykernel_24995/2232221786.py\u001b[0m in \u001b[0;36m<cell line: 30>\u001b[0;34m()\u001b[0m\n\u001b[1;32m     28\u001b[0m \u001b[0;34m\u001b[0m\u001b[0m\n\u001b[1;32m     29\u001b[0m \u001b[0;34m\u001b[0m\u001b[0m\n\u001b[0;32m---> 30\u001b[0;31m def transform_answers(tab_field_name: str, orig_answer: pd.Series, transform_from: str, transform_to: str, \n\u001b[0m\u001b[1;32m     31\u001b[0m                      dict_df: pd.DataFrame, mapping_df: pd.DataFrame) -> pd.Series:\n\u001b[1;32m     32\u001b[0m     \u001b[0mcode_from\u001b[0m \u001b[0;34m=\u001b[0m \u001b[0mtransform_from\u001b[0m\u001b[0;34m.\u001b[0m\u001b[0mlower\u001b[0m\u001b[0;34m(\u001b[0m\u001b[0;34m)\u001b[0m\u001b[0;34m\u001b[0m\u001b[0;34m\u001b[0m\u001b[0m\n",
      "\u001b[0;31mNameError\u001b[0m: name 'pd' is not defined"
     ]
    }
   ],
   "source": [
    "\n",
    "#| export\n",
    "\n",
    "# Here is a function that can convert a column to string, removing '.0' from floats\n",
    "import numpy as np\n",
    "import warnings\n",
    "\n",
    "def convert_to_string(x):\n",
    "    return str(int(x)) if isinstance(x, float) and x.is_integer() else str(x)\n",
    "\n",
    "def normalize_answers(orig_answer: pd.Series) -> pd.Series:\n",
    "    \"\"\"\n",
    "    Normalize the answers from string.\n",
    "\n",
    "    Args:\n",
    "        orig_answer (pd.Series): The original answer series.\n",
    "\n",
    "    Returns:\n",
    "        pd.Series: The normalized answer series.\n",
    "    \"\"\"\n",
    "    # Convert the entire series to strings, np.nan will become 'nan'\n",
    "    normalized_answer = orig_answer.astype(str)\n",
    "\n",
    "    # Replace float-like strings with integer-like strings, ignoring 'nan'\n",
    "    normalized_answer = normalized_answer.str.replace(r\"\\.0$\", \"\", regex=True)\n",
    "    normalized_answer = normalized_answer.replace(\"nan\", np.nan)\n",
    "\n",
    "    return normalized_answer\n",
    "\n",
    "def check_invalid_values(code_df, code_from, normalized_answer):\n",
    "    \"\"\"\n",
    "    Check if values in normalized_answer exist in code_df[code_from], excluding np.nan.\n",
    "\n",
    "    Args:\n",
    "        code_df (pd.DataFrame): The DataFrame containing the code mappings.\n",
    "        code_from (str): The column name to check in code_df.\n",
    "        normalized_answer (pd.Series): The normalized answer series.\n",
    "\n",
    "    Returns:\n",
    "        None: Prints the invalid values found, if any.\n",
    "    \"\"\"\n",
    "    # Check if values in normalized_answer exist in code_df[code_from], excluding np.nan\n",
    "    valid_values = set(code_df[code_from].astype(str))\n",
    "    answer_values = set(normalized_answer.dropna())\n",
    "    invalid_values = answer_values - valid_values\n",
    "\n",
    "    if invalid_values:\n",
    "        warnings.warn(f\"Invalid values found: {invalid_values}\")\n",
    "\n",
    "def transform_answers(\n",
    "    tab_field_name: str,\n",
    "    orig_answer: pd.Series,\n",
    "    transform_from: str,\n",
    "    transform_to: str,\n",
    "    dict_df: pd.DataFrame,\n",
    "    mapping_df: pd.DataFrame,\n",
    ") -> pd.Series:\n",
    "    code_from = transform_from.lower()\n",
    "    code_to = transform_to.lower()\n",
    "    assert code_from in [\"hebrew\", \"english\", \"coding\"]\n",
    "    assert code_to in [\"hebrew\", \"english\", \"coding\"]\n",
    "\n",
    "    # the index of the dict_df is the tabular_field_name\n",
    "    if isinstance(dict_df.loc[tab_field_name][\"data_coding\"], pd.Series):\n",
    "        code_string = convert_to_string(dict_df.loc[tab_field_name][\"data_coding\"].iloc[0])\n",
    "    else:\n",
    "        code_string = convert_to_string(dict_df.loc[tab_field_name][\"data_coding\"])\n",
    "\n",
    "    code_df = mapping_df[mapping_df[\"code_number\"] == code_string].copy()\n",
    "    #Make sure no leading 0s for coding values\n",
    "    code_df[\"coding\"] = code_df[\"coding\"].astype(int).astype(str)\n",
    "\n",
    "    coding = dict(zip(code_df[code_from].astype(str), code_df[code_to]))\n",
    "\n",
    "    normalized_answer = normalize_answers(orig_answer)\n",
    "\n",
    "    check_invalid_values(code_df, code_from, normalized_answer)\n",
    "    # Replace only valid values, preserving np.nan\n",
    "    transformed_answer = normalized_answer.replace(coding)\n",
    "\n",
    "    #transform to categorical varaible\n",
    "    transformed_answer = transformed_answer.astype(\"category\")\n",
    "\n",
    "\n",
    "    return transformed_answer\n",
    "\n",
    "\n",
    "\n",
    "def transform_dataframe(\n",
    "    df: pd.DataFrame,\n",
    "    transform_from: str,\n",
    "    transform_to: str,\n",
    "    dict_df: pd.DataFrame,\n",
    "    mapping_df: pd.DataFrame,\n",
    ") -> pd.DataFrame:\n",
    "    transformed_df = df.copy()\n",
    "    for column in transformed_df.columns:\n",
    "        if column in dict_df.index:\n",
    "            data_coding = dict_df.loc[column, 'data_coding']\n",
    "            # Handle the case where data_coding is a Series (multiple entries)\n",
    "            if isinstance(data_coding, pd.Series):\n",
    "                # Proceed only if all data_codings are consistent\n",
    "                if data_coding.nunique() == 1 and pd.notna(data_coding.iloc[0]):\n",
    "                    transformed_df[column] = transform_answers(\n",
    "                        column,\n",
    "                        transformed_df[column],\n",
    "                        transform_from,\n",
    "                        transform_to,\n",
    "                        dict_df,\n",
    "                        mapping_df\n",
    "                    )\n",
    "            else:  # Single value for data_coding\n",
    "                if pd.notna(data_coding):\n",
    "                    transformed_df[column] = transform_answers(\n",
    "                        column,\n",
    "                        transformed_df[column],\n",
    "                        transform_from,\n",
    "                        transform_to,\n",
    "                        dict_df,\n",
    "                        mapping_df\n",
    "                    )\n",
    "    return transformed_df\n",
    "\n",
    "\n"
   ]
  },
  {
   "cell_type": "code",
   "execution_count": null,
   "metadata": {},
   "outputs": [],
   "source": []
  },
  {
   "cell_type": "code",
   "execution_count": null,
   "metadata": {},
   "outputs": [],
   "source": [
    "#| hide\n",
    "import nbdev; nbdev.nbdev_export()"
   ]
  },
  {
   "cell_type": "code",
   "execution_count": null,
   "metadata": {},
   "outputs": [],
   "source": []
  }
 ],
 "metadata": {
  "kernelspec": {
   "display_name": "python3",
   "language": "python",
   "name": "python3"
  }
 },
 "nbformat": 4,
 "nbformat_minor": 2
}
