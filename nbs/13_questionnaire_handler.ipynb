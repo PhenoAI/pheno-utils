{
 "cells": [
  {
   "cell_type": "raw",
   "metadata": {},
   "source": [
    "---\n",
    "description: Class for handling questionnaires datasets on the research platform\n",
    "output-file: questionnaires_handler.html\n",
    "title: Questionnaires Handler\n",
    "\n",
    "---"
   ]
  },
  {
   "cell_type": "code",
   "execution_count": null,
   "metadata": {},
   "outputs": [],
   "source": [
    "#| default_exp questionnaires_handler"
   ]
  },
  {
   "cell_type": "code",
   "execution_count": null,
   "metadata": {},
   "outputs": [],
   "source": [
    "#| hide\n",
    "from nbdev.showdoc import *"
   ]
  },
  {
   "cell_type": "code",
   "execution_count": null,
   "metadata": {},
   "outputs": [],
   "source": [
    "#| export\n",
    "import pandas as pd\n",
    "import numpy as np"
   ]
  },
  {
   "cell_type": "code",
   "execution_count": null,
   "metadata": {},
   "outputs": [],
   "source": [
    "#| export\n",
    "\n",
    "# Here is a function that can convert a column to string, removing '.0' from floats\n",
    "\n",
    "def convert_to_string(x):\n",
    "    return str(int(x)) if isinstance(x, float) and x.is_integer() else str(x)\n",
    "\n",
    "# Usage:\n",
    "# df['column_name'] = convert_to_string(df['column_name'])\n",
    "\n",
    "\n",
    "def tranform_answers(tab_field_name: str, orig_answer: pd.Series, transform_from: str, transform_to: str, \n",
    "                     dict_df: pd.DataFrame, mapping_df: pd.DataFrame) -> pd.Series:\n",
    "    code_from = transform_from.lower()\n",
    "    code_to = transform_to.lower()\n",
    "    assert code_from in ['hebrew', 'english', 'coding']\n",
    "    assert code_to in ['hebrew', 'english', 'coding']\n",
    "    \n",
    "    # the index of the dict_df is the tabular_field_name\n",
    "    code_string = convert_to_string(dict_df.loc[tab_field_name]['data_coding'])\n",
    "    code_df = mapping_df[mapping_df['code_number'] == code_string].copy()\n",
    "    coding = dict(zip(code_df[code_from].astype(int).astype(str), code_df[code_to]))\n",
    "    return orig_answer.astype(str).replace(coding)\n"
   ]
  },
  {
   "cell_type": "code",
   "execution_count": null,
   "metadata": {},
   "outputs": [],
   "source": [
    "#| hide\n",
    "import nbdev; nbdev.nbdev_export()"
   ]
  },
  {
   "cell_type": "code",
   "execution_count": null,
   "metadata": {},
   "outputs": [],
   "source": []
  }
 ],
 "metadata": {
  "kernelspec": {
   "display_name": "python3",
   "language": "python",
   "name": "python3"
  }
 },
 "nbformat": 4,
 "nbformat_minor": 2
}
